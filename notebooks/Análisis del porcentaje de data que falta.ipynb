{
 "cells": [
  {
   "cell_type": "markdown",
   "metadata": {},
   "source": [
    "# Análisis de data faltante\n",
    "\n",
    "En esta sección haremos un simple analisis para determinar el porcentaje de datos faltantes en relacion a las mediciones históricas que se tienen bajo distintos criterios temporales.\n",
    "\n",
    "### Primera parte: estimación basada en raw data\n",
    "\n",
    "Para una primera estimación, tomaremos las mediciones sin realizarles operaciones de agrupamiento (agregación de intervalos por hora, dia, etc) ni limpieza (desechar valores que no cumplan el porcentaje minimo de mediciones en relacion al total)"
   ]
  },
  {
   "cell_type": "code",
   "execution_count": 1,
   "metadata": {},
   "outputs": [],
   "source": [
    "# Importamos la libreria pandas para manejar la data\n",
    "import pandas as pd\n",
    "\n",
    "# Leemos los datos\n",
    "dataset = pd.read_csv(\"temporal_cuad_data_30.csv\")\n",
    "\n",
    "# Transformamos la columna a tipo datetime\n",
    "dataset[\"Fecha\"] = pd.to_datetime(dataset[\"Fecha\"])"
   ]
  },
  {
   "cell_type": "code",
   "execution_count": 3,
   "metadata": {},
   "outputs": [
    {
     "name": "stdout",
     "output_type": "stream",
     "text": [
      "Fecha inicio:  2018-01-01 00:00:00\n",
      "Fecha termino:  2018-12-11 00:00:00\n",
      "Dias transcurridos entre primera y ultima medicion:  344 days 00:00:00\n"
     ]
    }
   ],
   "source": [
    "# Obtenemos el minimo valor posible de fecha, que corresponde a la fecha en que se registro la primera medicion\n",
    "min_date = min(dataset[\"Fecha\"])\n",
    "print(\"Fecha inicio: \", min_date)\n",
    "\n",
    "# Obtenemos el maximo valor posible de fecha, que corresponde a la fecha en que se registro la ultima medicion\n",
    "max_date = max(dataset[\"Fecha\"])\n",
    "print(\"Fecha termino: \", max_date)\n",
    "\n",
    "# Obtenemos el rango de dias transcurridos entre la primera medicion y la ultima\n",
    "rango = max_date-min_date\n",
    "\n",
    "print(\"Dias transcurridos entre primera y ultima medicion: \", rango)"
   ]
  },
  {
   "cell_type": "code",
   "execution_count": 15,
   "metadata": {},
   "outputs": [
    {
     "name": "stdout",
     "output_type": "stream",
     "text": [
      "Total de datos que se deberian tener:  400548096\n",
      "Total de datos que se tienen:  2165713\n",
      "Relacion de data disponible vs total: 0.54%\n",
      "Porcentaje de data ausente: 99.46%\n"
     ]
    }
   ],
   "source": [
    "# Puesto que el rango esta representado solo por dias obtenemos la cantidad de dias como un numero enter\n",
    "days = rango.days\n",
    "\n",
    "# Obtenemos la cantidad de cuadrantes \n",
    "n_cuad = len(dataset[\"id_Cuadrante\"].unique())\n",
    "\n",
    "# Como en esta primera parte estamos considerando intervalos de 15 minutos (cada dia tiene 96 intervalos de 15 minutos) \n",
    "# y toda la data, la cantidad de datos a obtener\n",
    "# se puede determinar de la siguiente forma: n_cuadrantes * \n",
    "\n",
    "total_data = days*n_cuad*96\n",
    "disp_data = dataset.shape[0]\n",
    "relation = disp_data/total_data\n",
    "\n",
    "print(\"Total de datos que se deberian tener: \", total_data)\n",
    "print(\"Total de datos que se tienen: \", disp_data)\n",
    "print(f\"Relacion de data disponible vs total: {round(relation*100, 2)}%\")\n",
    "print(f\"Porcentaje de data ausente: {round((1-relation)*100, 2)}%\")"
   ]
  },
  {
   "cell_type": "markdown",
   "metadata": {},
   "source": [
    "### Segunda parte: estimación basada en ventana temporal\n",
    "\n",
    "En esta parte, consideraremos las mediciones que se encuentren en la ventana de tiempo que contenga al menos un 2% (50000 mediciones) de la data en relacion al total (de la data disponible). La ventana a considerar correspondera entonces desde 6:00  a 20:00 hrs, lo que se traduce en 56 intervalos de 15 minutos."
   ]
  },
  {
   "cell_type": "code",
   "execution_count": 17,
   "metadata": {},
   "outputs": [
    {
     "name": "stdout",
     "output_type": "stream",
     "text": [
      "Total de datos que se deberian tener:  233653056\n",
      "Total de datos que se tienen:  2165713\n",
      "Relacion de data disponible vs total: 0.93%\n",
      "Porcentaje de data ausente: 99.07%\n"
     ]
    }
   ],
   "source": [
    "# Entonces la cantidad de data disponible se puede calcular como:\n",
    "\n",
    "total_data = days*n_cuad*56\n",
    "relation = disp_data/total_data\n",
    "\n",
    "print(\"Total de datos que se deberian tener: \", total_data)\n",
    "print(\"Total de datos que se tienen: \", disp_data)\n",
    "print(f\"Relacion de data disponible vs total: {round(relation*100, 2)}%\")\n",
    "print(f\"Porcentaje de data ausente: {round((1-relation)*100, 2)}%\")"
   ]
  },
  {
   "cell_type": "markdown",
   "metadata": {},
   "source": [
    "**En esta parte consideraremos las mediciones que se encuentran en la ventana de tiempo que va desde 7:00 a 18:00, lo que se traduce en 44 intervalos de 15 minutos.**"
   ]
  },
  {
   "cell_type": "code",
   "execution_count": 18,
   "metadata": {},
   "outputs": [
    {
     "name": "stdout",
     "output_type": "stream",
     "text": [
      "Total de datos que se deberian tener:  183584544\n",
      "Total de datos que se tienen:  2165713\n",
      "Relacion de data disponible vs total: 1.18%\n",
      "Porcentaje de data ausente: 98.82%\n"
     ]
    }
   ],
   "source": [
    "# Entonces la cantidad de data disponible se puede calcular como:\n",
    "\n",
    "total_data = days*n_cuad*44\n",
    "relation = disp_data/total_data\n",
    "\n",
    "print(\"Total de datos que se deberian tener: \", total_data)\n",
    "print(\"Total de datos que se tienen: \", disp_data)\n",
    "print(f\"Relacion de data disponible vs total: {round(relation*100, 2)}%\")\n",
    "print(f\"Porcentaje de data ausente: {round((1-relation)*100, 2)}%\")"
   ]
  },
  {
   "cell_type": "markdown",
   "metadata": {},
   "source": [
    "**Ahora, si consideramos intervalos de una hora en una ventana de a 7:00 a 18:00, la formula para calcular el total de datos seria: \n",
    "n_days * n_cuadrantes * 11. No obstante primero se debiese ajustar la data realizando la agregacion de las mediciones historicas con las que se cuenta al intervalo propuesto con el fin de obtener la nueva cantidad de data con la que se cuenta.**"
   ]
  }
 ],
 "metadata": {
  "kernelspec": {
   "display_name": "Python 3",
   "language": "python",
   "name": "python3"
  },
  "language_info": {
   "codemirror_mode": {
    "name": "ipython",
    "version": 3
   },
   "file_extension": ".py",
   "mimetype": "text/x-python",
   "name": "python",
   "nbconvert_exporter": "python",
   "pygments_lexer": "ipython3",
   "version": "3.6.7"
  }
 },
 "nbformat": 4,
 "nbformat_minor": 2
}
