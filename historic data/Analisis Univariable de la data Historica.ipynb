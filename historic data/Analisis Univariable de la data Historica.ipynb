{
 "cells": [
  {
   "cell_type": "markdown",
   "metadata": {},
   "source": [
    "# Analisis univariable de la data historica\n",
    "\n",
    "En esta sección se presentará un analisis en forma de histograma de las variables de interés pertenecientes a la data historica, que permitan visualizar patrones, asi como su distribución asociada.\n",
    "\n",
    "Para ello utilizaremos las librerías **pandas**, **numpy**, **os**, **glob**, **matplotlib** y **collections**. "
   ]
  },
  {
   "cell_type": "code",
   "execution_count": 1,
   "metadata": {},
   "outputs": [
    {
     "data": {
      "text/plain": [
       "(2165713, 8)"
      ]
     },
     "execution_count": 1,
     "metadata": {},
     "output_type": "execute_result"
    }
   ],
   "source": [
    "\"\"\"\n",
    "1- Importar librerias\n",
    "2- Obtener nombres de archivos de la data historica\n",
    "3- Leer data desde los archivos\n",
    "4- Efectuar Analisis en forma de histograma\n",
    "\"\"\"\n",
    "\n",
    "# Importamos las librerias\n",
    "import pandas as pd\n",
    "import os, glob\n",
    "import matplotlib.pyplot as plt\n",
    "import numpy as np\n",
    "\n",
    "# Obtenemos los archivos que contienen la data\n",
    "historic_files = glob.glob(os.path.join(os.getcwd()+ '/01-20190312T042227Z-001/01/Datos GPS/Datos GPS 200x200 (2018)', \"*.csv\"))\n",
    "\n",
    "# Leemos la data desde los archivos\n",
    "historic_data_headers = [\"id_Arco\", \"id_Cuadrante\", \"Nombre_Comuna\", \"Fecha\", \"Hora\", \"Velocidad_Promedio\", \"N_puntos\", \"N_vehiculos\"]\n",
    "historic_data = pd.DataFrame(columns=historic_data_headers)\n",
    "\n",
    "for file in historic_files:\n",
    "    data = pd.read_csv(file, delimiter=';')\n",
    "    historic_data = historic_data.append(data)\n",
    "\n",
    "# Verificamos que la data se encuentre en el DataFrame\n",
    "historic_data.shape\n",
    "\n"
   ]
  },
  {
   "cell_type": "code",
   "execution_count": 2,
   "metadata": {},
   "outputs": [
    {
     "data": {
      "text/html": [
       "<div>\n",
       "<style scoped>\n",
       "    .dataframe tbody tr th:only-of-type {\n",
       "        vertical-align: middle;\n",
       "    }\n",
       "\n",
       "    .dataframe tbody tr th {\n",
       "        vertical-align: top;\n",
       "    }\n",
       "\n",
       "    .dataframe thead th {\n",
       "        text-align: right;\n",
       "    }\n",
       "</style>\n",
       "<table border=\"1\" class=\"dataframe\">\n",
       "  <thead>\n",
       "    <tr style=\"text-align: right;\">\n",
       "      <th></th>\n",
       "      <th>id_Arco</th>\n",
       "      <th>id_Cuadrante</th>\n",
       "      <th>Nombre_Comuna</th>\n",
       "      <th>Fecha</th>\n",
       "      <th>Hora</th>\n",
       "      <th>Velocidad_Promedio</th>\n",
       "      <th>N_puntos</th>\n",
       "      <th>N_vehiculos</th>\n",
       "    </tr>\n",
       "  </thead>\n",
       "  <tbody>\n",
       "    <tr>\n",
       "      <th>0</th>\n",
       "      <td>25751767</td>\n",
       "      <td>14413</td>\n",
       "      <td>Lampa</td>\n",
       "      <td>13-11-2018</td>\n",
       "      <td>15:15:00</td>\n",
       "      <td>28</td>\n",
       "      <td>1</td>\n",
       "      <td>1</td>\n",
       "    </tr>\n",
       "    <tr>\n",
       "      <th>1</th>\n",
       "      <td>24444592</td>\n",
       "      <td>41659</td>\n",
       "      <td>Santiago</td>\n",
       "      <td>23-08-2018</td>\n",
       "      <td>18:00:00</td>\n",
       "      <td>18</td>\n",
       "      <td>1</td>\n",
       "      <td>1</td>\n",
       "    </tr>\n",
       "    <tr>\n",
       "      <th>2</th>\n",
       "      <td>30679885</td>\n",
       "      <td>7608</td>\n",
       "      <td>Colina</td>\n",
       "      <td>16-04-2018</td>\n",
       "      <td>11:30:00</td>\n",
       "      <td>57</td>\n",
       "      <td>1</td>\n",
       "      <td>1</td>\n",
       "    </tr>\n",
       "    <tr>\n",
       "      <th>3</th>\n",
       "      <td>388587252</td>\n",
       "      <td>34497</td>\n",
       "      <td>Renca</td>\n",
       "      <td>14-05-2018</td>\n",
       "      <td>10:15:00</td>\n",
       "      <td>102</td>\n",
       "      <td>1</td>\n",
       "      <td>1</td>\n",
       "    </tr>\n",
       "    <tr>\n",
       "      <th>4</th>\n",
       "      <td>194278123</td>\n",
       "      <td>34528</td>\n",
       "      <td>Providencia</td>\n",
       "      <td>02-02-2018</td>\n",
       "      <td>07:00:00</td>\n",
       "      <td>5</td>\n",
       "      <td>1</td>\n",
       "      <td>1</td>\n",
       "    </tr>\n",
       "    <tr>\n",
       "      <th>5</th>\n",
       "      <td>255327796</td>\n",
       "      <td>6585</td>\n",
       "      <td>Lampa</td>\n",
       "      <td>04-10-2018</td>\n",
       "      <td>12:15:00</td>\n",
       "      <td>52</td>\n",
       "      <td>1</td>\n",
       "      <td>1</td>\n",
       "    </tr>\n",
       "    <tr>\n",
       "      <th>6</th>\n",
       "      <td>30679885</td>\n",
       "      <td>12374</td>\n",
       "      <td>Colina</td>\n",
       "      <td>11-10-2018</td>\n",
       "      <td>11:15:00</td>\n",
       "      <td>113</td>\n",
       "      <td>1</td>\n",
       "      <td>1</td>\n",
       "    </tr>\n",
       "    <tr>\n",
       "      <th>7</th>\n",
       "      <td>42118505</td>\n",
       "      <td>38254</td>\n",
       "      <td>Santiago</td>\n",
       "      <td>18-01-2018</td>\n",
       "      <td>13:30:00</td>\n",
       "      <td>63</td>\n",
       "      <td>1</td>\n",
       "      <td>1</td>\n",
       "    </tr>\n",
       "    <tr>\n",
       "      <th>8</th>\n",
       "      <td>23973708</td>\n",
       "      <td>33818</td>\n",
       "      <td>Independencia</td>\n",
       "      <td>24-10-2018</td>\n",
       "      <td>16:00:00</td>\n",
       "      <td>68</td>\n",
       "      <td>1</td>\n",
       "      <td>1</td>\n",
       "    </tr>\n",
       "    <tr>\n",
       "      <th>9</th>\n",
       "      <td>47566417</td>\n",
       "      <td>25638</td>\n",
       "      <td>Quilicura</td>\n",
       "      <td>29-06-2018</td>\n",
       "      <td>10:15:00</td>\n",
       "      <td>14</td>\n",
       "      <td>1</td>\n",
       "      <td>1</td>\n",
       "    </tr>\n",
       "  </tbody>\n",
       "</table>\n",
       "</div>"
      ],
      "text/plain": [
       "     id_Arco id_Cuadrante  Nombre_Comuna       Fecha      Hora  \\\n",
       "0   25751767        14413          Lampa  13-11-2018  15:15:00   \n",
       "1   24444592        41659       Santiago  23-08-2018  18:00:00   \n",
       "2   30679885         7608         Colina  16-04-2018  11:30:00   \n",
       "3  388587252        34497          Renca  14-05-2018  10:15:00   \n",
       "4  194278123        34528    Providencia  02-02-2018  07:00:00   \n",
       "5  255327796         6585          Lampa  04-10-2018  12:15:00   \n",
       "6   30679885        12374         Colina  11-10-2018  11:15:00   \n",
       "7   42118505        38254       Santiago  18-01-2018  13:30:00   \n",
       "8   23973708        33818  Independencia  24-10-2018  16:00:00   \n",
       "9   47566417        25638      Quilicura  29-06-2018  10:15:00   \n",
       "\n",
       "  Velocidad_Promedio N_puntos N_vehiculos  \n",
       "0                 28        1           1  \n",
       "1                 18        1           1  \n",
       "2                 57        1           1  \n",
       "3                102        1           1  \n",
       "4                  5        1           1  \n",
       "5                 52        1           1  \n",
       "6                113        1           1  \n",
       "7                 63        1           1  \n",
       "8                 68        1           1  \n",
       "9                 14        1           1  "
      ]
     },
     "execution_count": 2,
     "metadata": {},
     "output_type": "execute_result"
    }
   ],
   "source": [
    "#Visualizacion de las 10 primeras filas de datos\n",
    "historic_data.head(10)"
   ]
  },
  {
   "cell_type": "markdown",
   "metadata": {},
   "source": [
    "### Analisis de cuadrantes\n",
    "\n",
    "Histograma de los cuadrantes mas transitados por la muestra de flota."
   ]
  },
  {
   "cell_type": "code",
   "execution_count": 3,
   "metadata": {
    "scrolled": true
   },
   "outputs": [
    {
     "data": {
      "image/png": "[encoded data removed]",
      "text/plain": [
       "<Figure size 432x288 with 1 Axes>"
      ]
     },
     "metadata": {
      "needs_background": "light"
     },
     "output_type": "display_data"
    }
   ],
   "source": [
    "# Se obtiene la data de los cuadrantes\n",
    "uni_data = historic_data[\"id_Cuadrante\"]\n",
    "\n",
    "# Plot del histograma, la cantidad de bins se puede cambiar para visualizar de distinta manera los datos\n",
    "uni_data.plot.hist(grid=True, bins=7, rwidth=0.9, color='#607c8e')\n",
    "plt.title('Cuadrantes visitados')\n",
    "plt.xlabel('id Cuadrante')\n",
    "plt.ylabel('Frecuencia')\n",
    "plt.grid(axis='y', alpha=0.75)"
   ]
  },
  {
   "cell_type": "markdown",
   "metadata": {},
   "source": [
    "### Analisis de comunas\n",
    "\n",
    "Histograma de las comunas mas transitadas por la muestra de la flota."
   ]
  },
  {
   "cell_type": "code",
   "execution_count": 4,
   "metadata": {},
   "outputs": [
    {
     "data": {
      "text/plain": [
       "Text(0.5,1,'Comunas transitadas')"
      ]
     },
     "execution_count": 4,
     "metadata": {},
     "output_type": "execute_result"
    },
    {
     "data": {
      "image/png": "[encoded data removed]",
      "text/plain": [
       "<Figure size 432x288 with 1 Axes>"
      ]
     },
     "metadata": {
      "needs_background": "light"
     },
     "output_type": "display_data"
    }
   ],
   "source": [
    "# Utilizaremos la funcion counter del modulo Collections\n",
    "from collections import Counter\n",
    "\n",
    "# Obtenemos la data de las comunas transitadas\n",
    "uni_data = historic_data[\"Nombre_Comuna\"]\n",
    "\n",
    "# Diccionario de frecuencias por comuna, esto es necesario para plotear histogramas con variables tipo string\n",
    "counter = Counter(uni_data)\n",
    "\n",
    "# Construccion de un dataframe en base al diccionario definido anteriormente y plotteo de la data\n",
    "df = pd.DataFrame.from_dict(counter, orient='index')\n",
    "df.plot(kind='bar')\n",
    "plt.grid(axis='y', alpha=0.75)\n",
    "plt.ylabel('Frequencia')\n",
    "plt.title(\"Comunas transitadas\")"
   ]
  },
  {
   "cell_type": "markdown",
   "metadata": {},
   "source": [
    "### Analisis de fechas\n",
    "\n",
    "Histograma que muestra la frecuencia por mes en que se realizaron recorridos por los vehiculos de la flota de muestra."
   ]
  },
  {
   "cell_type": "code",
   "execution_count": 5,
   "metadata": {},
   "outputs": [
    {
     "data": {
      "text/plain": [
       "Text(0.5,1,'Transito de flota por mes')"
      ]
     },
     "execution_count": 5,
     "metadata": {},
     "output_type": "execute_result"
    },
    {
     "data": {
      "image/png": "[encoded data removed]",
      "text/plain": [
       "<Figure size 432x288 with 1 Axes>"
      ]
     },
     "metadata": {
      "needs_background": "light"
     },
     "output_type": "display_data"
    }
   ],
   "source": [
    "# Transformamos las fechas a datetime\n",
    "historic_data[\"Fecha\"] = pd.to_datetime(historic_data[\"Fecha\"])    \n",
    "\n",
    "# Obtenemos la data de las fechas\n",
    "uni_data = historic_data[\"Fecha\"]\n",
    "\n",
    "# Agrupamos los datos por mes y ploteamos\n",
    "uni_data.groupby(uni_data.dt.month).count().plot(kind=\"bar\")\n",
    "plt.grid(axis='y', alpha=0.75)\n",
    "plt.ylabel('Frequencia')\n",
    "plt.xlabel(\"Mes\")\n",
    "plt.title(\"Transito de flota por mes\")"
   ]
  },
  {
   "cell_type": "markdown",
   "metadata": {},
   "source": [
    "### Analisis de horas\n",
    "\n",
    "Histograma de las horas en que se efectuaron recorridos medidos para la flota de muestra."
   ]
  },
  {
   "cell_type": "code",
   "execution_count": 6,
   "metadata": {},
   "outputs": [
    {
     "data": {
      "text/plain": [
       "Text(0.5,1,'Transito de flota por hora')"
      ]
     },
     "execution_count": 6,
     "metadata": {},
     "output_type": "execute_result"
    },
    {
     "data": {
      "image/png": "[encoded data removed]",
      "text/plain": [
       "<Figure size 432x288 with 1 Axes>"
      ]
     },
     "metadata": {
      "needs_background": "light"
     },
     "output_type": "display_data"
    }
   ],
   "source": [
    "# Transformamos las horas a datetime\n",
    "historic_data[\"Hora\"] = pd.to_datetime(historic_data[\"Hora\"])\n",
    "\n",
    "# Obtenemos los datos por hora\n",
    "uni_data = historic_data[\"Hora\"]\n",
    "\n",
    "# Agrupamos los datos por hora y ploteamos\n",
    "uni_data.groupby(uni_data.dt.hour).count().plot(kind=\"bar\")\n",
    "plt.grid(axis='y', alpha=0.75)\n",
    "plt.ylabel('Frequencia')\n",
    "plt.xlabel(\"Hora del dia\")\n",
    "plt.title(\"Transito de flota por hora\")"
   ]
  },
  {
   "cell_type": "markdown",
   "metadata": {},
   "source": [
    "### Analisis de velocidades\n",
    "\n",
    "Histograma que muestra las velocidades mas frecuentes medidas en la flota de muestra."
   ]
  },
  {
   "cell_type": "code",
   "execution_count": 7,
   "metadata": {},
   "outputs": [
    {
     "data": {
      "image/png": "[encoded data removed]",
      "text/plain": [
       "<Figure size 432x288 with 1 Axes>"
      ]
     },
     "metadata": {
      "needs_background": "light"
     },
     "output_type": "display_data"
    }
   ],
   "source": [
    "# Obtenemos los datos de velocidades\n",
    "uni_data = historic_data[\"Velocidad_Promedio\"]\n",
    "\n",
    "# Ploteo de las velocidades\n",
    "uni_data.plot.hist(grid=True, bins=5, rwidth=0.9, color='#607c8e')\n",
    "plt.title(\"Velocidades medidas\")\n",
    "plt.xlabel('Velocidad promedio')\n",
    "plt.ylabel('Frecuencia')\n",
    "plt.grid(axis='y', alpha=0.75)"
   ]
  }
 ],
 "metadata": {
  "kernelspec": {
   "display_name": "Python 3",
   "language": "python",
   "name": "python3"
  },
  "language_info": {
   "codemirror_mode": {
    "name": "ipython",
    "version": 3
   },
   "file_extension": ".py",
   "mimetype": "text/x-python",
   "name": "python",
   "nbconvert_exporter": "python",
   "pygments_lexer": "ipython3",
   "version": "3.6.7"
  }
 },
 "nbformat": 4,
 "nbformat_minor": 2
}
